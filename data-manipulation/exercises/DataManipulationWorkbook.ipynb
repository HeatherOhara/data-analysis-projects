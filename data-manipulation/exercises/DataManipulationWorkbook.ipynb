{
 "cells": [
  {
   "cell_type": "markdown",
   "id": "d2d52186",
   "metadata": {},
   "source": [
    "# Welcome to the Data Manipulation Exercises\n",
    "\n",
    "The workbook has been broken up into three sections.  Each section correlates to a reading assignment within the textbook."
   ]
  },
  {
   "cell_type": "code",
   "execution_count": 1,
   "id": "b781c5c2",
   "metadata": {},
   "outputs": [],
   "source": [
    "import pandas as pd\n",
    "import numpy as np\n",
    "\n",
    "data= pd.read_csv(\"titanic.csv\")"
   ]
  },
  {
   "cell_type": "markdown",
   "id": "2a701fe6",
   "metadata": {},
   "source": [
    "## Before You Get Started\n",
    "\n",
    "We are going to be using the Titanic Dataset. Make sure to run a head() before you start working with manipulation methods."
   ]
  },
  {
   "cell_type": "code",
   "execution_count": 2,
   "id": "bfa6771a",
   "metadata": {},
   "outputs": [
    {
     "name": "stdout",
     "output_type": "stream",
     "text": [
      "   survived  pclass     sex   age  sibsp  parch     fare embarked  class  \\\n",
      "0         0       3    male  22.0      1      0   7.2500        S  Third   \n",
      "1         1       1  female  38.0      1      0  71.2833        C  First   \n",
      "2         1       3  female  26.0      0      0   7.9250        S  Third   \n",
      "3         1       1  female  35.0      1      0  53.1000        S  First   \n",
      "4         0       3    male  35.0      0      0   8.0500        S  Third   \n",
      "\n",
      "     who  adult_male deck  embark_town alive  alone  \n",
      "0    man        True  NaN  Southampton    no  False  \n",
      "1  woman       False    C    Cherbourg   yes  False  \n",
      "2  woman       False  NaN  Southampton   yes   True  \n",
      "3  woman       False    C  Southampton   yes  False  \n",
      "4    man        True  NaN  Southampton    no   True  \n"
     ]
    }
   ],
   "source": [
    "# Run the head of your data set here:\n",
    "import pandas as pd\n",
    "\n",
    "# Load the dataset\n",
    "titanic_data = pd.read_csv('titanic.csv')\n",
    "\n",
    "# Display the first few rows\n",
    "print(titanic_data.head())\n"
   ]
  },
  {
   "cell_type": "code",
   "execution_count": 3,
   "id": "90fb6f46",
   "metadata": {},
   "outputs": [
    {
     "name": "stdout",
     "output_type": "stream",
     "text": [
      "Number of duplicate rows: 107\n"
     ]
    }
   ],
   "source": [
    "# check for duplicates\n",
    "duplicates = titanic_data.duplicated()\n",
    "\n",
    "num_duplicates = duplicates.sum()\n",
    "print(f'Number of duplicate rows: {num_duplicates}')"
   ]
  },
  {
   "cell_type": "code",
   "execution_count": 4,
   "id": "dddfd9e9",
   "metadata": {},
   "outputs": [
    {
     "name": "stdout",
     "output_type": "stream",
     "text": [
      "Original shape: (891, 15)\n",
      "Cleaned shape: (784, 15)\n"
     ]
    }
   ],
   "source": [
    "# if there are, go ahead and drop them:\n",
    "titanic_data_cleaned = titanic_data.drop_duplicates()\n",
    "\n",
    "# Print the shape of the original and cleaned dataset\n",
    "print(f'Original shape: {titanic_data.shape}')\n",
    "print(f'Cleaned shape: {titanic_data_cleaned.shape}')\n"
   ]
  },
  {
   "cell_type": "markdown",
   "id": "0f70caa2",
   "metadata": {},
   "source": [
    "### Cleaning Note:\n",
    "\n",
    "While the columns are not the \"prettiest\", don't adjust any of them yet. We are going to update some values and add some values as we workthrough this notebook. Applologies for the extra visual \"noise\" on your screen. You will be given the option to tidy up the columns at the end of this notebook."
   ]
  },
  {
   "cell_type": "markdown",
   "id": "11789dff",
   "metadata": {},
   "source": [
    "## Running Tables Note:  \n",
    "If your tables don't appear to have accepted your changes, try the \"Run All\" option in the \"Cell\" section of the menu bar.  "
   ]
  },
  {
   "cell_type": "markdown",
   "id": "a4104f7d",
   "metadata": {},
   "source": [
    "<span style=\"background-color:dodgerblue; color:dodgerblue;\">- - - - - - - - - - - - - - - - - - - - - - - - - - - - - - - - - - - - - - - - - - - - - - - - - - - - - - - - - - - - - - - - - - - - - - - - - - - - - - - - - - - - - - - - -</span> "
   ]
  },
  {
   "cell_type": "markdown",
   "id": "0948036e",
   "metadata": {},
   "source": [
    "# A. Aggregation\n",
    "\n",
    "1. Work through the section Exercises.  \n",
    "    - There are 4 sections in part A:\n",
    "        - Groupby\n",
    "        - Aggregation Methods\n",
    "        - Groupby and Basic Math\n",
    "        - Groupby and Multiple Aggregations\n"
   ]
  },
  {
   "cell_type": "markdown",
   "id": "1116d353",
   "metadata": {},
   "source": [
    "#### Creating Variables.\n",
    "\n",
    "As we begin to manipulate our data, create new variables to store your work in.  This will keep your original data in tact.  Having the original dataset available will save you time with each manipulation.  You can also create variable names that inform you of the purpose of the manipulation.  "
   ]
  },
  {
   "cell_type": "markdown",
   "id": "0621dc21",
   "metadata": {},
   "source": [
    "### 1: Groupby <span style=\"color:dodgerblue;\"> - - - - - - - - - - - - - - - - - - - - - - - - - - - - - - - - - - - - - - - - - - - - - - - - - - - </span> "
   ]
  },
  {
   "cell_type": "markdown",
   "id": "c89219ea",
   "metadata": {},
   "source": [
    "#### Groupby \"embark_town\"\n",
    "\n",
    "1. Using the titanic data set, groupby \"embark_town\".\n",
    "1. Create a variable that will represent the grouping of data. \n",
    "1. Intitalize it using the groupby() function and pass it the column.\n"
   ]
  },
  {
   "cell_type": "code",
   "execution_count": 5,
   "id": "34322f41",
   "metadata": {},
   "outputs": [],
   "source": [
    "# Code your groupby \"embark_town\" here:\n",
    "grouped_titantic = data.groupby([\"embark_town\"]).sum()"
   ]
  },
  {
   "cell_type": "code",
   "execution_count": 6,
   "id": "0465bb2f",
   "metadata": {},
   "outputs": [
    {
     "name": "stdout",
     "output_type": "stream",
     "text": [
      "             survived  pclass  \\\n",
      "embark_town                     \n",
      "Cherbourg          93     317   \n",
      "Queenstown         30     224   \n",
      "Southampton       217    1514   \n",
      "\n",
      "                                                           sex       age  \\\n",
      "embark_town                                                                \n",
      "Cherbourg    femalefemalefemalemalemalefemalemalemalefemale...   4005.92   \n",
      "Queenstown   malemalefemalefemalefemalefemalemalefemalefema...    786.50   \n",
      "Southampton  malefemalefemalemalemalemalefemalefemalefemale...  16312.75   \n",
      "\n",
      "             sibsp  parch        fare  \\\n",
      "embark_town                             \n",
      "Cherbourg       65     61  10072.2962   \n",
      "Queenstown      33     13   1022.2543   \n",
      "Southampton    368    266  17439.3988   \n",
      "\n",
      "                                                      embarked  \\\n",
      "embark_town                                                      \n",
      "Cherbourg    CCCCCCCCCCCCCCCCCCCCCCCCCCCCCCCCCCCCCCCCCCCCCC...   \n",
      "Queenstown   QQQQQQQQQQQQQQQQQQQQQQQQQQQQQQQQQQQQQQQQQQQQQQ...   \n",
      "Southampton  SSSSSSSSSSSSSSSSSSSSSSSSSSSSSSSSSSSSSSSSSSSSSS...   \n",
      "\n",
      "                                                         class  \\\n",
      "embark_town                                                      \n",
      "Cherbourg    FirstSecondThirdThirdFirstFirstFirstThirdThird...   \n",
      "Queenstown   ThirdThirdThirdThirdThirdThirdThirdThirdThirdT...   \n",
      "Southampton  ThirdThirdFirstThirdFirstThirdThirdThirdFirstT...   \n",
      "\n",
      "                                                           who  adult_male  \\\n",
      "embark_town                                                                  \n",
      "Cherbourg    womanchildwomanmanmanwomanmanmanchildmanchildm...          90   \n",
      "Queenstown   manchildchildwomanwomanwomanmanwomanwomanwoman...          37   \n",
      "Southampton  manwomanwomanmanmanchildwomanchildwomanmanmanc...         410   \n",
      "\n",
      "                                                          deck  \\\n",
      "embark_town                                                      \n",
      "Cherbourg    CBDBADBFBACBBADDCBDBCECBECBEDBECDCCDBBDCBBCCAC...   \n",
      "Queenstown                                                CECF   \n",
      "Southampton  CEGCDACCCFFCEDCEDDCFCEBFAFGCCDGCBEBCCDACCCCDCC...   \n",
      "\n",
      "                                                         alive  alone  \n",
      "embark_town                                                            \n",
      "Cherbourg    yesyesyesnonoyesnoyesyesnoyesnoyesnonononoyesn...     85  \n",
      "Queenstown   nonoyesyesyesyesnoyesyesyesnononoyesnoyesnonoy...     57  \n",
      "Southampton  noyesyesnononoyesyesyesnononoyesyesnonoyesyesn...    393  \n"
     ]
    }
   ],
   "source": [
    "# To view the grouped data as a table, use the variable_name.first():\n",
    "grouped_titantic = data.groupby([\"embark_town\"]).sum()\n",
    "print(grouped_titantic)"
   ]
  },
  {
   "cell_type": "markdown",
   "id": "0ffc226e",
   "metadata": {},
   "source": [
    "#### Groupby \"survived\"\n",
    "\n",
    "Did you know that you can also chain on some of our exploratory methods to the groupby method?\n",
    "\n",
    "1. Create & initalize a new variable to hold a table that will groupby \"survived\" \n",
    "1. Use method chaining to tack on the describe method"
   ]
  },
  {
   "cell_type": "code",
   "execution_count": 12,
   "id": "3e9afd3a",
   "metadata": {},
   "outputs": [
    {
     "name": "stdout",
     "output_type": "stream",
     "text": [
      "                      pclass  \\\n",
      "embark_town survived           \n",
      "Cherbourg   0            165   \n",
      "            1            152   \n",
      "Queenstown  0            138   \n",
      "            1             86   \n",
      "Southampton 0           1087   \n",
      "            1            427   \n",
      "\n",
      "                                                                    sex  \\\n",
      "embark_town survived                                                      \n",
      "Cherbourg   0         malemalemalemalemalemalemalemalemalemalemalefe...   \n",
      "            1         femalefemalefemalefemalemalefemalefemalefemale...   \n",
      "Queenstown  0         malemalemalemalemalemalemalemalemalemalemalema...   \n",
      "            1         femalefemalefemalefemalefemalefemalefemalefema...   \n",
      "Southampton 0         malemalemalemalemalemalefemalefemalemalefemale...   \n",
      "            1         femalefemalefemalefemalefemalefemalemalemalema...   \n",
      "\n",
      "                           age  sibsp  parch       fare  \\\n",
      "embark_town survived                                      \n",
      "Cherbourg   0          1717.00     19     19  2658.2501   \n",
      "            1          2288.92     46     42  7414.0461   \n",
      "Queenstown  0           606.50     24     13   626.7875   \n",
      "            1           180.00      9      0   395.4668   \n",
      "Southampton 0         10662.00    261    149  8857.6823   \n",
      "            1          5650.75    107    117  8581.7165   \n",
      "\n",
      "                                                               embarked  \\\n",
      "embark_town survived                                                      \n",
      "Cherbourg   0         CCCCCCCCCCCCCCCCCCCCCCCCCCCCCCCCCCCCCCCCCCCCCC...   \n",
      "            1         CCCCCCCCCCCCCCCCCCCCCCCCCCCCCCCCCCCCCCCCCCCCCC...   \n",
      "Queenstown  0           QQQQQQQQQQQQQQQQQQQQQQQQQQQQQQQQQQQQQQQQQQQQQQQ   \n",
      "            1                            QQQQQQQQQQQQQQQQQQQQQQQQQQQQQQ   \n",
      "Southampton 0         SSSSSSSSSSSSSSSSSSSSSSSSSSSSSSSSSSSSSSSSSSSSSS...   \n",
      "            1         SSSSSSSSSSSSSSSSSSSSSSSSSSSSSSSSSSSSSSSSSSSSSS...   \n",
      "\n",
      "                                                                  class  \\\n",
      "embark_town survived                                                      \n",
      "Cherbourg   0         ThirdFirstFirstThirdThirdFirstThirdThirdFirstT...   \n",
      "            1         FirstSecondThirdFirstThirdThirdSecondFirstThir...   \n",
      "Queenstown  0         ThirdThirdThirdThirdThirdThirdThirdThirdThirdT...   \n",
      "            1         ThirdThirdThirdThirdThirdThirdThirdThirdThirdT...   \n",
      "Southampton 0         ThirdThirdFirstThirdThirdThirdThirdThirdSecond...   \n",
      "            1         ThirdFirstThirdThirdFirstSecondSecondSecondFir...   \n",
      "\n",
      "                                                                    who  \\\n",
      "embark_town survived                                                      \n",
      "Cherbourg   0         manmanmanmanmanmanmanmanmanmanmanchildwomanman...   \n",
      "            1         womanchildwomanwomanmanchildchildwomanmanmanch...   \n",
      "Queenstown  0         manchildmanmanmanmanchildmanmanmanmanmanwomanc...   \n",
      "            1         childwomanwomanwomanwomanwomanwomanwomanwomanw...   \n",
      "Southampton 0         manmanmanchildmanmanchildwomanmanchildmanmanma...   \n",
      "            1         womanwomanwomanchildwomanwomanmanmanmanwomanwo...   \n",
      "\n",
      "                      adult_male  \\\n",
      "embark_town survived               \n",
      "Cherbourg   0                 64   \n",
      "            1                 26   \n",
      "Queenstown  0                 34   \n",
      "            1                  3   \n",
      "Southampton 0                351   \n",
      "            1                 59   \n",
      "\n",
      "                                                                   deck  \\\n",
      "embark_town survived                                                      \n",
      "Cherbourg   0                                         BABBACCDCCBCCADCB   \n",
      "            1         CBDDFBBADDBBCECBECBEDBEDCDBDBBCACBDABBDABDCCCB...   \n",
      "Queenstown  0                                                        CF   \n",
      "            1                                                        EC   \n",
      "Southampton 0          ECCFEDCDCFBAGGCEBACCCCCECEEACCDCBDEBFCFCBDEDABAB   \n",
      "            1         CGCDACFCEDCEFFCCDBCCDCCCDFCFEBGECBACDECBEFBBEC...   \n",
      "\n",
      "                                                                  alive  alone  \n",
      "embark_town survived                                                            \n",
      "Cherbourg   0         nonononononononononononononononononononononono...     48  \n",
      "            1         yesyesyesyesyesyesyesyesyesyesyesyesyesyesyesy...     37  \n",
      "Queenstown  0         nonononononononononononononononononononononono...     34  \n",
      "            1         yesyesyesyesyesyesyesyesyesyesyesyesyesyesyesy...     23  \n",
      "Southampton 0         nonononononononononononononononononononononono...    292  \n",
      "            1         yesyesyesyesyesyesyesyesyesyesyesyesyesyesyesy...    101  \n"
     ]
    }
   ],
   "source": [
    "grouped_titantic = data.groupby([\"embark_town\",\"survived\"]).sum()\n",
    "print(grouped_titantic)\n"
   ]
  },
  {
   "cell_type": "code",
   "execution_count": 13,
   "id": "e218b79b",
   "metadata": {},
   "outputs": [
    {
     "name": "stdout",
     "output_type": "stream",
     "text": [
      "                      pclass  \\\n",
      "embark_town survived           \n",
      "Cherbourg   0            165   \n",
      "            1            152   \n",
      "Queenstown  0            138   \n",
      "            1             86   \n",
      "Southampton 0           1087   \n",
      "            1            427   \n",
      "\n",
      "                                                                    sex  \\\n",
      "embark_town survived                                                      \n",
      "Cherbourg   0         malemalemalemalemalemalemalemalemalemalemalefe...   \n",
      "            1         femalefemalefemalefemalemalefemalefemalefemale...   \n",
      "Queenstown  0         malemalemalemalemalemalemalemalemalemalemalema...   \n",
      "            1         femalefemalefemalefemalefemalefemalefemalefema...   \n",
      "Southampton 0         malemalemalemalemalemalefemalefemalemalefemale...   \n",
      "            1         femalefemalefemalefemalefemalefemalemalemalema...   \n",
      "\n",
      "                           age  sibsp  parch       fare  \\\n",
      "embark_town survived                                      \n",
      "Cherbourg   0          1717.00     19     19  2658.2501   \n",
      "            1          2288.92     46     42  7414.0461   \n",
      "Queenstown  0           606.50     24     13   626.7875   \n",
      "            1           180.00      9      0   395.4668   \n",
      "Southampton 0         10662.00    261    149  8857.6823   \n",
      "            1          5650.75    107    117  8581.7165   \n",
      "\n",
      "                                                               embarked  \\\n",
      "embark_town survived                                                      \n",
      "Cherbourg   0         CCCCCCCCCCCCCCCCCCCCCCCCCCCCCCCCCCCCCCCCCCCCCC...   \n",
      "            1         CCCCCCCCCCCCCCCCCCCCCCCCCCCCCCCCCCCCCCCCCCCCCC...   \n",
      "Queenstown  0           QQQQQQQQQQQQQQQQQQQQQQQQQQQQQQQQQQQQQQQQQQQQQQQ   \n",
      "            1                            QQQQQQQQQQQQQQQQQQQQQQQQQQQQQQ   \n",
      "Southampton 0         SSSSSSSSSSSSSSSSSSSSSSSSSSSSSSSSSSSSSSSSSSSSSS...   \n",
      "            1         SSSSSSSSSSSSSSSSSSSSSSSSSSSSSSSSSSSSSSSSSSSSSS...   \n",
      "\n",
      "                                                                  class  \\\n",
      "embark_town survived                                                      \n",
      "Cherbourg   0         ThirdFirstFirstThirdThirdFirstThirdThirdFirstT...   \n",
      "            1         FirstSecondThirdFirstThirdThirdSecondFirstThir...   \n",
      "Queenstown  0         ThirdThirdThirdThirdThirdThirdThirdThirdThirdT...   \n",
      "            1         ThirdThirdThirdThirdThirdThirdThirdThirdThirdT...   \n",
      "Southampton 0         ThirdThirdFirstThirdThirdThirdThirdThirdSecond...   \n",
      "            1         ThirdFirstThirdThirdFirstSecondSecondSecondFir...   \n",
      "\n",
      "                                                                    who  \\\n",
      "embark_town survived                                                      \n",
      "Cherbourg   0         manmanmanmanmanmanmanmanmanmanmanchildwomanman...   \n",
      "            1         womanchildwomanwomanmanchildchildwomanmanmanch...   \n",
      "Queenstown  0         manchildmanmanmanmanchildmanmanmanmanmanwomanc...   \n",
      "            1         childwomanwomanwomanwomanwomanwomanwomanwomanw...   \n",
      "Southampton 0         manmanmanchildmanmanchildwomanmanchildmanmanma...   \n",
      "            1         womanwomanwomanchildwomanwomanmanmanmanwomanwo...   \n",
      "\n",
      "                      adult_male  \\\n",
      "embark_town survived               \n",
      "Cherbourg   0                 64   \n",
      "            1                 26   \n",
      "Queenstown  0                 34   \n",
      "            1                  3   \n",
      "Southampton 0                351   \n",
      "            1                 59   \n",
      "\n",
      "                                                                   deck  \\\n",
      "embark_town survived                                                      \n",
      "Cherbourg   0                                         BABBACCDCCBCCADCB   \n",
      "            1         CBDDFBBADDBBCECBECBEDBEDCDBDBBCACBDABBDABDCCCB...   \n",
      "Queenstown  0                                                        CF   \n",
      "            1                                                        EC   \n",
      "Southampton 0          ECCFEDCDCFBAGGCEBACCCCCECEEACCDCBDEBFCFCBDEDABAB   \n",
      "            1         CGCDACFCEDCEFFCCDBCCDCCCDFCFEBGECBACDECBEFBBEC...   \n",
      "\n",
      "                                                                  alive  alone  \n",
      "embark_town survived                                                            \n",
      "Cherbourg   0         nonononononononononononononononononononononono...     48  \n",
      "            1         yesyesyesyesyesyesyesyesyesyesyesyesyesyesyesy...     37  \n",
      "Queenstown  0         nonononononononononononononononononononononono...     34  \n",
      "            1         yesyesyesyesyesyesyesyesyesyesyesyesyesyesyesy...     23  \n",
      "Southampton 0         nonononononononononononononononononononononono...    292  \n",
      "            1         yesyesyesyesyesyesyesyesyesyesyesyesyesyesyesy...    101  \n",
      "            pclass           age       sibsp       parch         fare  \\\n",
      "count     6.000000      6.000000    6.000000    6.000000     6.000000   \n",
      "mean    342.500000   3517.528333   77.666667   56.666667  4755.658217   \n",
      "std     383.882664   3998.966670   96.448259   61.509891  3974.677675   \n",
      "min      86.000000    180.000000    9.000000    0.000000   395.466800   \n",
      "25%     141.500000    884.125000   20.250000   14.500000  1134.653150   \n",
      "50%     158.500000   2002.960000   35.000000   30.500000  5036.148100   \n",
      "75%     361.500000   4810.292500   91.750000   98.250000  8289.798900   \n",
      "max    1087.000000  10662.000000  261.000000  149.000000  8857.682300   \n",
      "\n",
      "       adult_male       alone  \n",
      "count    6.000000    6.000000  \n",
      "mean    89.500000   89.166667  \n",
      "std    130.044223  103.071658  \n",
      "min      3.000000   23.000000  \n",
      "25%     28.000000   34.750000  \n",
      "50%     46.500000   42.500000  \n",
      "75%     62.750000   87.750000  \n",
      "max    351.000000  292.000000  \n"
     ]
    }
   ],
   "source": [
    "# run your table with describe\n",
    "grouped_titantic = data.groupby([\"embark_town\",\"survived\"]).sum()\n",
    "print(grouped_titantic)\n",
    "print(grouped_titantic.describe())"
   ]
  },
  {
   "cell_type": "code",
   "execution_count": 9,
   "id": "25c917d1",
   "metadata": {},
   "outputs": [],
   "source": [
    "# How is this table organized?  Why are there 40 columns now?\n",
    "\n"
   ]
  },
  {
   "cell_type": "markdown",
   "id": "42783c6d",
   "metadata": {},
   "source": [
    "### 2. Aggregation Methods <span style=\"color:dodgerblue;\"> - - - - - - - - - - - - - - - - - - - - - - - - - - - - - - - - - - - - - - - - - - - - - - - - - - - </span> "
   ]
  },
  {
   "cell_type": "markdown",
   "id": "3af74f16",
   "metadata": {},
   "source": [
    "Note: **agg()** and **aggregate()** are identical [source](https://pandas.pydata.org/docs/reference/api/pandas.DataFrame.aggregate.html)"
   ]
  },
  {
   "cell_type": "markdown",
   "id": "14147835",
   "metadata": {},
   "source": [
    "#### Method Chaining\n",
    "\n",
    "1. Create a variable to method chain **head()** and **agg()** togehter.\n",
    "1. Pass one of the following statistical values to **agg()**\n",
    "   - \"mean\", \"median\", \"mode\", \"min\", \"max\", \"std\", \"var\", \"first\", \"last\", \"sum\""
   ]
  },
  {
   "cell_type": "code",
   "execution_count": 15,
   "id": "312a7c2f",
   "metadata": {},
   "outputs": [
    {
     "ename": "NameError",
     "evalue": "name 'grouped_titanic' is not defined",
     "output_type": "error",
     "traceback": [
      "\u001b[1;31m---------------------------------------------------------------------------\u001b[0m",
      "\u001b[1;31mNameError\u001b[0m                                 Traceback (most recent call last)",
      "Cell \u001b[1;32mIn[15], line 2\u001b[0m\n\u001b[0;32m      1\u001b[0m \u001b[38;5;66;03m# Code your method chain here:\u001b[39;00m\n\u001b[1;32m----> 2\u001b[0m grouped_summary \u001b[38;5;241m=\u001b[39m \u001b[43mgrouped_titanic\u001b[49m\u001b[38;5;241m.\u001b[39magg(\u001b[38;5;124m'\u001b[39m\u001b[38;5;124mmean\u001b[39m\u001b[38;5;124m'\u001b[39m)\u001b[38;5;241m.\u001b[39mhead()\n\u001b[0;32m      4\u001b[0m \u001b[38;5;66;03m# Display the result\u001b[39;00m\n\u001b[0;32m      5\u001b[0m \u001b[38;5;28mprint\u001b[39m(grouped_summary)\n",
      "\u001b[1;31mNameError\u001b[0m: name 'grouped_titanic' is not defined"
     ]
    }
   ],
   "source": [
    "# Code your method chain here:\n",
    "grouped_summary = grouped_titanic.agg('mean').head()\n",
    "\n",
    "# Display the result\n",
    "print(grouped_summary)\n",
    "\n",
    "    "
   ]
  },
  {
   "cell_type": "code",
   "execution_count": 11,
   "id": "089919c2",
   "metadata": {},
   "outputs": [],
   "source": [
    "# Create a variable to method chain head() with agg(\"sum\")\n",
    "\n",
    "# run your table:\n"
   ]
  },
  {
   "cell_type": "code",
   "execution_count": 12,
   "id": "29e72d3b",
   "metadata": {},
   "outputs": [],
   "source": [
    "# Explain the sum table.  What is going on with the \"sex\", \"class\", and \"alive\" columns?\n",
    "\n"
   ]
  },
  {
   "cell_type": "markdown",
   "id": "8f370f65",
   "metadata": {},
   "source": [
    "#### Using a Dictionary <span style=\"color:darkorange;\"> - - - - - - - - - - - - - - - - - - - - - - - - - - - - - - - - - - - - - - - - - - - - - - - - - - - </span> \n",
    "##### A dictionary is a Python collection type.  \n",
    "\n",
    "Is a collection type that stores **key-value pairs**.  A key-value pair is an orgainzation system that is made up of a single *key* that has one or more *values* paired with it.  \n",
    "Think of it like your contacts list.  The contacts list is the dictionary object.  \n",
    "Each contact is organized by a key, usually name.  And attached to each name is contact information, or the values.\n",
    "Some contacts might have email address, phone number, home or work address, etc. Other contacts may just be a name and phone number.  This is a very simple example, but understanding this orgainzational structure will be helpful as you learn to manipulate tables.  \n",
    "\n",
    "*Here is a dictionary example with 3 keys:*\n",
    ">**contacts_dictionary = {\"name1\": [\"email\", 555-5552, \"work info\"], \n",
    "      \"name2\": [\"email\", 555-5554],\n",
    "      \"name3\": 555-5555}**\n",
    "                     \n",
    "*Here is a dictionary example with a single key-value pair*\n",
    "**study_group_dictionary = {\"name1\": 555-5557}**   \n",
    "\n",
    "It has a single key, and a list of values. The organization of this structure is called a \"Key-Value Pair\".\n",
    "Using the contact list example, the key would be the name of the person and the values would be their contact information.  The key is a single item (the person's name) and the values can be a single item (an email address) or mulitple items (email, phone number, address, work info, etc).\n",
    "Keys and values can be any data type, but must use correct data type syntax.  The keys do not have to be strings, but they do need to be a single value.  \n",
    "\n",
    "For more information, you can read more on dictionary objects [here](https://www.w3schools.com/python/python_dictionaries.asp).\n"
   ]
  },
  {
   "cell_type": "markdown",
   "id": "ac1059cd",
   "metadata": {},
   "source": [
    "#### Aggregation across muliple columns using dictionary functionality\n",
    "\n",
    "##### Syntax Example:\n",
    "\n",
    "**age_dictionary={\"age\":[\"sum\", \"max\"]}**\n",
    "\n",
    "We are creating a new dictionary (**age_dictionary**).  The key is **age** and the values we want are **\"sum\"\"** and **\"max\"**.  This dictionary object has now become a tempate for the aggregations we want to preform.  However, on it's own, it does nothing.  Once passed to the **agg()** method, it will pick out the specific location of data we want to examine.  Making a subset table.  \n",
    "\n",
    "The code is contained in the box below.  Run it and see what happens.\n",
    "\n",
    "\n",
    "For syntax examples, review [this webpage](https://www.geeksforgeeks.org/python-pandas-dataframe-aggregate/).\n",
    "#### <span style=\"color:coral;\"> - - - - - - - - - - - - - - - - - - - - - - - - - - - - - - - - - - - - - - - - - - - - - - - - - - - </span>"
   ]
  },
  {
   "cell_type": "code",
   "execution_count": 13,
   "id": "89392dec",
   "metadata": {},
   "outputs": [],
   "source": [
    "# Predict the table output before you uncomment the code below.\n",
    "\n",
    "# age_dictionary={\"age\":[\"sum\", \"max\"]}\n",
    "# dictionary_agg=data.agg(age_dictionary)\n",
    "# dictionary_agg"
   ]
  },
  {
   "cell_type": "markdown",
   "id": "c6e1283b",
   "metadata": {},
   "source": [
    "1. What if we want to look at more than one column at a time?  We pass more dictionaries to the agg function.\n",
    "1. Create a variable to hold at least 3 columns.  Use the syntax from the \"Syntax Example\" as a guide.\n",
    "    - Aggregate the following:  survived: \"sum\" & \"count\"; age: \"std\" & \"min\", and sibsp: \"count\" & \"sum\""
   ]
  },
  {
   "cell_type": "code",
   "execution_count": 14,
   "id": "2c7f1c6e",
   "metadata": {},
   "outputs": [],
   "source": [
    "# Code your dictionary here:\n",
    "\n"
   ]
  },
  {
   "cell_type": "markdown",
   "id": "297d7169",
   "metadata": {},
   "source": [
    "### 3. Groupby and Basic Math <span style=\"color:dodgerblue;\"> - - - - - - - - - - - - - - - - - - - - - - - - - - - - - - - - - - - - - - - - - - - - - - - - - - - </span> \n",
    "\n",
    "1. Groupby \"pclass\".  Make sure you use a variable to hold your grouped data."
   ]
  },
  {
   "cell_type": "code",
   "execution_count": 15,
   "id": "ac154abb",
   "metadata": {},
   "outputs": [],
   "source": [
    "# Code your groupby here:\n",
    "\n",
    "\n",
    "\n",
    "# Run your table using first() here instead of head():\n"
   ]
  },
  {
   "cell_type": "markdown",
   "id": "b5b8a0be",
   "metadata": {},
   "source": [
    "### 4. Groupby and Multiple Aggregations <span style=\"color:dodgerblue;\"> - - - - - - - - - - - - - - - - - - - - - - - - - - - - - - - - - - - - - - - - - - - - - - - - - - - </span> "
   ]
  },
  {
   "cell_type": "markdown",
   "id": "83b74e40",
   "metadata": {},
   "source": [
    "#### Group with a List<span style=\"color:dodgerblue;\"> - - - - - - - - - - - - - - - - - - - - - - - - - - - - - - - - - - - - - - - - - - - - - - - - - - - </span>"
   ]
  },
  {
   "cell_type": "markdown",
   "id": "85d1655c",
   "metadata": {},
   "source": [
    "1. We want to do muliple aggregation functions to our newly grouped data set.  We created a variable to hold a list of functions we want to perform.  These functions are part of the agg method.  When we pass our list to the method, the method will iterate through each item and perform that function for the entire table."
   ]
  },
  {
   "cell_type": "code",
   "execution_count": 16,
   "id": "d79b7b1d",
   "metadata": {},
   "outputs": [],
   "source": [
    "# our list of functions\n",
    "agg_func_list = ['sum', 'mean', 'median', 'min', 'max', 'std', 'var', 'first', 'last', 'count']\n",
    "\n",
    "\n",
    "#Apply the agg method to our passenger_class variable (made in the Groupby Basic Math section).  \n",
    "# Pass our list to the function and run your table.\n",
    "\n",
    "\n",
    "  "
   ]
  },
  {
   "cell_type": "markdown",
   "id": "e734b183",
   "metadata": {},
   "source": [
    "#### Group with a Dictionary<span style=\"color:dodgerblue;\"> - - - - - - - - - - - - - - - - - - - - - - - - - - - - - - - - - - - - - - - - - - - - - - - - - - - </span>\n",
    "\n",
    "Using only a list provides us with the entire table.  What if we only want to look at age vs pclass?  \n",
    "\n",
    "we can create a dictionary to hold the age column for us.  The *key* would be the name of our column, and the values our list of functions to preform on that column.  The code would look like this:"
   ]
  },
  {
   "cell_type": "code",
   "execution_count": 17,
   "id": "460c85da",
   "metadata": {},
   "outputs": [],
   "source": [
    "agg_func_dict = {\n",
    "    'age':\n",
    "    ['sum', 'mean', 'median', 'min', 'max', 'std', 'var', 'first', 'last', 'count']\n",
    "}\n",
    "# We would run our table like this:\n",
    "# passenger_class.agg(agg_func_dict)  "
   ]
  },
  {
   "cell_type": "markdown",
   "id": "18b17b5f",
   "metadata": {},
   "source": [
    "Looking at the *age_func_dict* syntax, create a dictionary variable for the \"survived\" column and pass it to **passenger_class.agg()** in the box below."
   ]
  },
  {
   "cell_type": "code",
   "execution_count": 18,
   "id": "2b05656e",
   "metadata": {},
   "outputs": [],
   "source": [
    "# Code it here:\n",
    "\n",
    "\n",
    "\n"
   ]
  },
  {
   "cell_type": "markdown",
   "id": "4a224518",
   "metadata": {},
   "source": [
    "<span style=\"background-color:dodgerblue; color:dodgerblue;\">- - - - - - - - - - - - - - - - - - - - - - - - - - - - - - - - - - - - - - - - - - - - - - - - - - - - - - - - - - - - - - - - - - - - - - - - - - - - - - - - - - - - - - - - -</span> "
   ]
  },
  {
   "cell_type": "markdown",
   "id": "7e825467",
   "metadata": {},
   "source": [
    "# B. Recoding and Creating New Values and Variables \n",
    "\n",
    "1. Work through the Part B, there are 3 sections"
   ]
  },
  {
   "cell_type": "markdown",
   "id": "646f6c33",
   "metadata": {},
   "source": [
    "### Create a New Column <span style=\"color:dodgerblue;\"> - - - - - - - - - - - - - - - - - - - - - - - - - - - - - - - - - - - - - - - - - - - - - - - - - - - </span> \n",
    "\n",
    "In the box below:\n",
    "1. Create a new column by manipulating the values of different column.  Specifically, create a new column, \"fare_2021\" that allows us to compare the cost of fare in pounds back in 1912 to 2021.  [This website](https://www.in2013dollars.com/uk/inflation/1912) can help you find the 2021 fare amount. "
   ]
  },
  {
   "cell_type": "code",
   "execution_count": 19,
   "id": "1d521795",
   "metadata": {},
   "outputs": [],
   "source": [
    "# Code your new \"fare_2021\" column here:\n",
    "\n",
    "# Run the head of your table to see your new column:\n"
   ]
  },
  {
   "cell_type": "markdown",
   "id": "a944618b",
   "metadata": {},
   "source": [
    "### Replacing Values <span style=\"color:dodgerblue;\"> - - - - - - - - - - - - - - - - - - - - - - - - - - - - - - - - - - - - - - - - - - - - - - - - - - - </span> \n",
    " \n",
    "Replace the values in the \"alive\" coloum from string \"yes\" or \"no\" to bools, where \"yes\" becomes True and \"no\" becomes False."
   ]
  },
  {
   "cell_type": "code",
   "execution_count": 20,
   "id": "5aa29ad3",
   "metadata": {},
   "outputs": [],
   "source": [
    "# Code your updated values here:\n",
    "\n",
    "\n"
   ]
  },
  {
   "cell_type": "markdown",
   "id": "961d7e60",
   "metadata": {},
   "source": [
    "We can also use functions to update values.\n",
    "\n",
    "1. Create a function that will set the alive values as bools. Apply it to your table and run your table here:"
   ]
  },
  {
   "cell_type": "code",
   "execution_count": 21,
   "id": "6b14b0ee",
   "metadata": {},
   "outputs": [],
   "source": [
    "# Code your function here:\n"
   ]
  },
  {
   "cell_type": "markdown",
   "id": "6a830345",
   "metadata": {},
   "source": [
    "### Using a function to create a new column <span style=\"color:dodgerblue;\"> - - - - - - - - - - - - - - - - - - - - - - - - - - - - - - - - - - - - - - - - - - - - - - - - - - - </span> \n",
    "\n",
    "Sometimes you might want to create a new column based on combining multiple columns together.\n",
    "\n",
    "1. create an \"age_group\" column that breaks years up as 0-19, 20-29, 30-39, etc until all given ages are covered.  Make sure you check to see where you can stop counting by 10s."
   ]
  },
  {
   "cell_type": "code",
   "execution_count": 22,
   "id": "ca1e0dee",
   "metadata": {},
   "outputs": [],
   "source": [
    "# Write your max age check here:\n"
   ]
  },
  {
   "cell_type": "code",
   "execution_count": 23,
   "id": "9061858c",
   "metadata": {},
   "outputs": [],
   "source": [
    "# Code the new \"age_group\" column function here:\n",
    "\n"
   ]
  },
  {
   "cell_type": "markdown",
   "id": "9a64ca65",
   "metadata": {},
   "source": [
    "<span style=\"background-color:dodgerblue; color:dodgerblue;\">- - - - - - - - - - - - - - - - - - - - - - - - - - - - - - - - - - - - - - - - - - - - - - - - - - - - - - - - - - - - - - - - - - - - - - - - - - - - - - - - - - - - - - - - -</span> "
   ]
  },
  {
   "cell_type": "markdown",
   "id": "5760d2ed",
   "metadata": {},
   "source": [
    "# C. Reshaping Tables\n",
    "\n",
    "1. Work through Part C, there are 4 sections"
   ]
  },
  {
   "cell_type": "markdown",
   "id": "9f6ceef3",
   "metadata": {},
   "source": [
    "### Sort_values <span style=\"color:dodgerblue;\"> - - - - - - - - - - - - - - - - - - - - - - - - - - - - - - - - - - - - - - - - - - - - - - - - - - - </span> "
   ]
  },
  {
   "cell_type": "markdown",
   "id": "268ddc8a",
   "metadata": {},
   "source": [
    "Use **sort_values()** to answer the following question:\n",
    "> What is the age of the person who paid the highest fare?\n",
    "\n",
    "Hint: We want to see the highest fare value first. What order would we want? ascending or descending?  Check the [documentation](https://pandas.pydata.org/docs/reference/api/pandas.DataFrame.sort_values.html?highlight=sort_values#pandas.DataFrame.sort_values) for the syntax."
   ]
  },
  {
   "cell_type": "code",
   "execution_count": 24,
   "id": "21b3a95e",
   "metadata": {},
   "outputs": [],
   "source": [
    "# Code your sort_values here:\n",
    "\n",
    "\n",
    "# Run your table here:"
   ]
  },
  {
   "cell_type": "markdown",
   "id": "0a5d0d2c",
   "metadata": {},
   "source": [
    "### pivot_table <span style=\"color:dodgerblue;\"> - - - - - - - - - - - - - - - - - - - - - - - - - - - - - - - - - - - - - - - - - - - - - - - - - - - </span> \n",
    "1. pivot the table of the summed data where the values are \"fare\", index is \"who\" and \"age_group\", and the columns are \"survived\"\n",
    "\n",
    "Hint: set the aggfunc parameter to np.sum\n",
    "\n",
    "\n"
   ]
  },
  {
   "cell_type": "code",
   "execution_count": 25,
   "id": "74b19d7f",
   "metadata": {},
   "outputs": [],
   "source": [
    "# Code your pivot_table here:\n",
    "\n",
    "\n",
    "# Run your table here:\n"
   ]
  },
  {
   "cell_type": "markdown",
   "id": "3863d61c",
   "metadata": {},
   "source": [
    "### Wide to Long <span style=\"color:dodgerblue;\"> - - - - - - - - - - - - - - - - - - - - - - - - - - - - - - - - - - - - - - - - - - - - - - - - - - - </span> \n",
    "\n",
    "1. Create a table where the columns are \"who\" and the values are \"pclass\"\n",
    "1. Answer the question:  How does this table differ from the pivot_table above?  Specifically, how is \"who\" different?"
   ]
  },
  {
   "cell_type": "code",
   "execution_count": 26,
   "id": "c6f05a93",
   "metadata": {},
   "outputs": [],
   "source": [
    "# Code your table here:\n",
    "\n",
    "\n",
    "# Run your table here:\n",
    "\n",
    "\n",
    "# Answer the question here:\n",
    "\n"
   ]
  },
  {
   "cell_type": "markdown",
   "id": "854e4b22",
   "metadata": {},
   "source": [
    "### Melt <span style=\"color:dodgerblue;\"> - - - - - - - - - - - - - - - - - - - - - - - - - - - - - - - - - - - - - - - - - - - - - - - - - - - </span> "
   ]
  },
  {
   "cell_type": "markdown",
   "id": "40521afb",
   "metadata": {},
   "source": [
    "1.  What does **melt** to the data? "
   ]
  },
  {
   "cell_type": "code",
   "execution_count": 27,
   "id": "361a2ac1",
   "metadata": {},
   "outputs": [],
   "source": [
    "# What does melt do?\n"
   ]
  },
  {
   "cell_type": "markdown",
   "id": "0a9f586c",
   "metadata": {},
   "source": [
    "2. Melt to your data.  Be sure to store the output in a new variable.  What is the new shape of your table?"
   ]
  },
  {
   "cell_type": "code",
   "execution_count": 28,
   "id": "056ee34b",
   "metadata": {},
   "outputs": [],
   "source": [
    "# Create your default melt table here with the following syntax:  new_name = pd.melt(data_set)\n",
    "\n",
    "# Run your table here:\n",
    "\n",
    "# Check the shape of your new table.\n"
   ]
  },
  {
   "cell_type": "markdown",
   "id": "2b203e5c",
   "metadata": {},
   "source": [
    "3. Create a melt table where the index variables are \"embarked\", and the values are \"fare\" and \"deck\""
   ]
  },
  {
   "cell_type": "code",
   "execution_count": 29,
   "id": "49dddb6f",
   "metadata": {},
   "outputs": [],
   "source": [
    "# Create your melt table here:\n",
    "\n",
    "# Run your table here:\n",
    "\n",
    "# Check the shape\n"
   ]
  },
  {
   "cell_type": "markdown",
   "id": "ed3c7217",
   "metadata": {},
   "source": [
    "# Optonal Challenges:\n",
    "\n",
    "1. Clean and Explore the table.  \n",
    "    1. How would you handle any missing data?\n",
    "    1. Would you keep all of the columns?\n",
    "    1. Would you want to manipulate any data?"
   ]
  },
  {
   "cell_type": "code",
   "execution_count": null,
   "id": "6b2b3f82",
   "metadata": {},
   "outputs": [],
   "source": []
  }
 ],
 "metadata": {
  "kernelspec": {
   "display_name": "Python 3 (ipykernel)",
   "language": "python",
   "name": "python3"
  },
  "language_info": {
   "codemirror_mode": {
    "name": "ipython",
    "version": 3
   },
   "file_extension": ".py",
   "mimetype": "text/x-python",
   "name": "python",
   "nbconvert_exporter": "python",
   "pygments_lexer": "ipython3",
   "version": "3.12.6"
  }
 },
 "nbformat": 4,
 "nbformat_minor": 5
}
